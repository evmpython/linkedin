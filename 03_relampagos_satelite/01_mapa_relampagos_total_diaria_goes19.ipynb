{
  "cells": [
    {
      "cell_type": "markdown",
      "source": [
        "# Plota mapa diário de relâmpagos do GLM do satelite GOES-19\n",
        " - Dados GLM GOES-19 fornecido pelo CPTEC: http://ftp.cptec.inpe.br/goes/goes19/goes19_web/glm_acumulado_nc/\n",
        " - Realizado por: Enrique V. Mattos - 28/08/2025"
      ],
      "metadata": {
        "id": "Vh9p0wE94Dfv"
      },
      "id": "Vh9p0wE94Dfv"
    },
    {
      "cell_type": "markdown",
      "id": "KvJ4s_i81xtt",
      "metadata": {
        "id": "KvJ4s_i81xtt"
      },
      "source": [
        "# **1° Passo:** Preparando ambiente"
      ]
    },
    {
      "cell_type": "code",
      "execution_count": null,
      "id": "eXY5wVTX1xEB",
      "metadata": {
        "id": "eXY5wVTX1xEB"
      },
      "outputs": [],
      "source": [
        "# instalações\n",
        "!pip install -q ultraplot cartopy pygrib rioxarray salem rasterio pyproj geopandas\n",
        "\n",
        "# monta o drive\n",
        "from google.colab import drive\n",
        "drive.mount('/content/drive')\n",
        "\n",
        "# nome do diretório\n",
        "dir = '/content/drive/MyDrive/2-PESQUISA/0_GLM/estudos_de_caso/2025-08-22-FRENTEFRIA_RS'\n",
        "\n",
        "# importa bibliotecas\n",
        "import ultraplot as uplt\n",
        "import xarray as xr\n",
        "import numpy as np\n",
        "from matplotlib.colors import LinearSegmentedColormap\n",
        "import cartopy.crs as ccrs\n",
        "import cartopy.io.shapereader as shpreader\n",
        "import os\n",
        "import glob\n",
        "import matplotlib.pyplot as plt\n",
        "import cartopy.feature as cfeature\n",
        "import time\n",
        "from matplotlib import cm\n",
        "import matplotlib.patches as patches\n",
        "import pygrib\n",
        "import matplotlib\n",
        "import rioxarray as rxr\n",
        "from datetime import datetime, timedelta\n",
        "import pandas as pd\n",
        "import salem\n",
        "\n",
        "import warnings\n",
        "warnings.filterwarnings(\"ignore\")"
      ]
    },
    {
      "cell_type": "markdown",
      "id": "XnMutUOWca0P",
      "metadata": {
        "id": "XnMutUOWca0P"
      },
      "source": [
        "# **2° Passo:** Declarando funções"
      ]
    },
    {
      "cell_type": "code",
      "execution_count": null,
      "id": "2e2b10ad",
      "metadata": {
        "id": "2e2b10ad"
      },
      "outputs": [],
      "source": [
        "def evm_plot_states(shapefile, cor, espessura_linha):\n",
        "    import cartopy.crs as ccrs\n",
        "    import cartopy.io.shapereader as shpreader\n",
        "    import matplotlib.pyplot as plt\n",
        "    shapefile = list(shpreader.Reader(shapefile).geometries())\n",
        "    ax.add_geometries(shapefile, ccrs.PlateCarree(), edgecolor=cor, facecolor='none', linewidth=espessura_linha)"
      ]
    },
    {
      "cell_type": "code",
      "source": [
        "# **Função que baixa os dados do GLM que possuem frequência temporal de 5 min no ftp do CPTEC**\n",
        "def download_GLM5min_CPTEC(ano, mes, dia, hor, min):\n",
        "\n",
        "    print('.... Baixando dado ===>', 'DATA=', ano, mes, dia, hor, min)\n",
        "\n",
        "    # caminho do ftp do cptec\n",
        "    ftp_cptec_glm_5min = 'http://ftp.cptec.inpe.br/goes/goes19/goes19_web/glm_acumulado_nc'\n",
        "\n",
        "    # código do produto\n",
        "    codigo_produto = 'S11162307'\n",
        "\n",
        "    # nome do arquivo\n",
        "    file_glm5min_cptec =  f'{ftp_cptec_glm_5min}/{ano}/{mes}/{codigo_produto}_{ano}{mes}{dia}{hor}{min}.nc' # S11162307_202507010000.nc\n",
        "\n",
        "    # baixando a imagem de satélite\n",
        "    !wget -c {file_glm5min_cptec}\n",
        "\n",
        "    # local da imagem que foi baixada\n",
        "    file_glm_download = f'/content/{codigo_produto}_{ano}{mes}{dia}{hor}{min}.nc'\n",
        "\n",
        "    return file_glm_download"
      ],
      "metadata": {
        "id": "pWFdT_ayc-mh"
      },
      "id": "pWFdT_ayc-mh",
      "execution_count": null,
      "outputs": []
    },
    {
      "cell_type": "markdown",
      "source": [
        "# **Processando os dados**"
      ],
      "metadata": {
        "id": "jIo176iO5P9d"
      },
      "id": "jIo176iO5P9d"
    },
    {
      "cell_type": "markdown",
      "source": [
        "## Baixando os dados\n",
        "Os dados serão baixados do ftp do CPTEC-INPE. São arquivos netcdf a cada 5 min. O tempo total para o download de 5 dias de dados é de aproximadamente 27 min."
      ],
      "metadata": {
        "id": "Z8xjHGVd54at"
      },
      "id": "Z8xjHGVd54at"
    },
    {
      "cell_type": "code",
      "source": [
        "%%time\n",
        "# ano, mes e dia INICIAL do período\n",
        "anoi = 2025\n",
        "mesi = 8\n",
        "diai = 20\n",
        "\n",
        "# ano, mes e dia FINAL do período\n",
        "anof = 2025\n",
        "mesf = 8\n",
        "diaf = 24 # 24\n",
        "\n",
        "# Datas no formato string\n",
        "date_in = datetime(anoi, mesi, diai)\n",
        "date_ini = date_in.strftime('%Y%m%d')\n",
        "\n",
        "date_en = datetime(anof, mesf, diaf)\n",
        "date_end = date_en.strftime('%Y%m%d')\n",
        "\n",
        "# Download dos dados\n",
        "files_imagens = []\n",
        "for file in pd.date_range(date_ini, date_end, freq='5min'):\n",
        "\n",
        "    # extrai ano e mes\n",
        "    ano = file.strftime('%Y')\n",
        "    mes = file.strftime('%m')\n",
        "    dia = file.strftime('%d')\n",
        "    dia = file.strftime('%d')\n",
        "    hor = file.strftime('%H')\n",
        "    min = file.strftime('%M')\n",
        "\n",
        "    # baixa imagem de satélite\n",
        "    file_glm_download = download_GLM5min_CPTEC(ano, mes, dia, hor, min)\n",
        "\n",
        "    # salva o nomes das imagens baixadas\n",
        "    files_imagens.append(file_glm_download)"
      ],
      "metadata": {
        "id": "mfDa6E0x57AH"
      },
      "id": "mfDa6E0x57AH",
      "execution_count": null,
      "outputs": []
    },
    {
      "cell_type": "markdown",
      "source": [
        "## Processando os dados\n",
        "A leitura dos dados demora aproximadamente 4 min."
      ],
      "metadata": {
        "id": "siXx-lle6aIx"
      },
      "id": "siXx-lle6aIx"
    },
    {
      "cell_type": "code",
      "source": [
        "%%time\n",
        "#==================================================================================================#\n",
        "#                                   DEFINIÇÃO DOS LIMITES DA IMAGEM\n",
        "#==================================================================================================#\n",
        "# limites das latitudes e longitudes\n",
        "lonmin, lonmax, latmin, latmax = -60.0, -40., -40., -20.0\n",
        "\n",
        "# extensão da imagem [min. lon, min. lat, max. lon, max. lat]\n",
        "extent = [lonmin, latmin, lonmax, latmax]\n",
        "\n",
        "#==================================================================================================#\n",
        "#                                     SHAPEFILES\n",
        "#==================================================================================================#\n",
        "shp_ES = list(shpreader.Reader('https://github.com/evmpython/shapefile/raw/main/UFs/ES/ES_UF_2019.shp').geometries())\n",
        "shp_RJ = list(shpreader.Reader('https://github.com/evmpython/shapefile/raw/main/UFs/RJ/RJ_UF_2019.shp').geometries())\n",
        "shp_SP = list(shpreader.Reader('https://github.com/evmpython/shapefile/raw/main/UFs/SP/SP_UF_2019.shp').geometries())\n",
        "shp_PR = list(shpreader.Reader('https://github.com/evmpython/shapefile/raw/main/UFs/PR/PR_UF_2019.shp').geometries())\n",
        "shp_SC = list(shpreader.Reader('https://github.com/evmpython/shapefile/raw/main/UFs/SC/SC_UF_2019.shp').geometries())\n",
        "shp_RS = list(shpreader.Reader('https://github.com/evmpython/shapefile/raw/main/UFs/RS/RS_UF_2019.shp').geometries())\n",
        "\n",
        "#==================================================================================================#\n",
        "#                                   LEITURA DOS DADOS DO GLM-CPTEC\n",
        "#==================================================================================================#\n",
        "# DIA 20\n",
        "flash_goes19_5min_dia20 = xr.open_mfdataset(glob.glob('/content/S11162307_20250820*nc'), concat_dim='time', combine='nested', decode_times=False).sel(lon=slice(lonmin, lonmax), lat=slice(latmin, latmax))\n",
        "\n",
        "# DIA 21\n",
        "flash_goes19_5min_dia21 = xr.open_mfdataset(glob.glob('/content/S11162307_20250821*nc'), concat_dim='time', combine='nested', decode_times=False).sel(lon=slice(lonmin, lonmax), lat=slice(latmin, latmax))\n",
        "\n",
        "# DIA 22\n",
        "flash_goes19_5min_dia22 = xr.open_mfdataset(glob.glob('/content/S11162307_20250822*nc'), concat_dim='time', combine='nested', decode_times=False).sel(lon=slice(lonmin, lonmax), lat=slice(latmin, latmax))\n",
        "\n",
        "# DIA 23\n",
        "flash_goes19_5min_dia23 = xr.open_mfdataset(glob.glob('/content/S11162307_20250823*nc'), concat_dim='time', combine='nested', decode_times=False).sel(lon=slice(lonmin, lonmax), lat=slice(latmin, latmax))\n",
        "\n",
        "# DIA 24\n",
        "flash_goes19_5min_dia24 = xr.open_mfdataset(glob.glob('/content/S11162307_20250824*nc'), concat_dim='time', combine='nested', decode_times=False).sel(lon=slice(lonmin, lonmax), lat=slice(latmin, latmax))\n",
        "\n",
        "#==================================================================================================#\n",
        "#                         SOMA OS RELÂMPAGOS PARA CADA DIA\n",
        "#==================================================================================================#\n",
        "flash_goes19_dia20 = flash_goes19_5min_dia20['flash'].sum(dim='time')\n",
        "flash_goes19_dia21 = flash_goes19_5min_dia21['flash'].sum(dim='time')\n",
        "flash_goes19_dia22 = flash_goes19_5min_dia22['flash'].sum(dim='time')\n",
        "flash_goes19_dia23 = flash_goes19_5min_dia23['flash'].sum(dim='time')\n",
        "flash_goes19_dia24 = flash_goes19_5min_dia24['flash'].sum(dim='time')\n",
        "\n",
        "#==================================================================================================#\n",
        "#                      SOMA O TOTAL DE RELÂMPAGOS ENTRE OS DIAS 20 e 24\n",
        "#==================================================================================================#\n",
        "flash_goes19_sum = flash_goes19_dia20 + flash_goes19_dia21 + flash_goes19_dia22 + flash_goes19_dia23 + flash_goes19_dia24"
      ],
      "metadata": {
        "id": "fjYAvN9F5Y0E"
      },
      "id": "fjYAvN9F5Y0E",
      "execution_count": null,
      "outputs": []
    },
    {
      "cell_type": "code",
      "source": [
        "# mostra os dados de 5min\n",
        "flash_goes19_5min_dia20"
      ],
      "metadata": {
        "id": "KcSZ6gnXATUW"
      },
      "id": "KcSZ6gnXATUW",
      "execution_count": null,
      "outputs": []
    },
    {
      "cell_type": "code",
      "source": [
        "# mostra a matriz soma daquele dia\n",
        "flash_goes19_dia20"
      ],
      "metadata": {
        "id": "xp68ohWR5Y8M"
      },
      "id": "xp68ohWR5Y8M",
      "execution_count": null,
      "outputs": []
    },
    {
      "cell_type": "code",
      "source": [
        "# matriz de soma\n",
        "flash_goes19_sum"
      ],
      "metadata": {
        "id": "0hkB6r2z5a8y"
      },
      "id": "0hkB6r2z5a8y",
      "execution_count": null,
      "outputs": []
    },
    {
      "cell_type": "markdown",
      "source": [
        "# **Plota figura**"
      ],
      "metadata": {
        "id": "tYbYpp5QVvtY"
      },
      "id": "tYbYpp5QVvtY"
    },
    {
      "cell_type": "code",
      "source": [
        "# mostrando o dado de FLASH que será utilizado\n",
        "flash_goes19_dia20"
      ],
      "metadata": {
        "id": "AFZw_Frx6q8C"
      },
      "id": "AFZw_Frx6q8C",
      "execution_count": null,
      "outputs": []
    },
    {
      "cell_type": "code",
      "source": [
        "%%time\n",
        "#==================================================================================================#\n",
        "#                              DEFINIÇÕES DO GRÁFICO\n",
        "#==================================================================================================#\n",
        "# cria moldura da figura\n",
        "fig, ax = uplt.subplots(ncols=3, nrows=2, axheight=6.9, axwidth=6.8, tight=True, proj='pcarree')\n",
        "\n",
        "# formata os eixos\n",
        "ax.format(coast=True, borders=True, innerborders=True,\n",
        "          labels=True, latlines=4, lonlines=5,\n",
        "          latlim=(latmin, latmax), lonlim=(lonmin, lonmax),\n",
        "          abc=False, #abcstyle='(a)', abcsize=5\n",
        "          small='40px', large='40px',\n",
        "          linewidth=2,\n",
        "          suptitle='Acumulado de Relâmpagos', suptitlecolor='red', suptitlesize=40)\n",
        "\n",
        "# título de nome do produto\n",
        "ax[3].text(lonmin+0.1, latmin-2.5, 'GOES-19 (GLM)/8km', color='grey', fontsize=30)\n",
        "\n",
        "#==================================================================================================#\n",
        "#                                       PLOTA FIGURAS\n",
        "#==================================================================================================#\n",
        "# datas das figuras\n",
        "datas = ['2025-08-20', '2025-08-21', '2025-08-22', '2025-08-23', '2025-08-24','acumulado']\n",
        "\n",
        "# loop das datas\n",
        "for i, data in enumerate(datas):\n",
        "\n",
        "    # define o dado de cada dia\n",
        "    if data == '2025-08-20': flash_goes19_dia = flash_goes19_dia20\n",
        "    if data == '2025-08-21': flash_goes19_dia = flash_goes19_dia21\n",
        "    if data == '2025-08-22': flash_goes19_dia = flash_goes19_dia22\n",
        "    if data == '2025-08-23': flash_goes19_dia = flash_goes19_dia23\n",
        "    if data == '2025-08-24': flash_goes19_dia = flash_goes19_dia24\n",
        "    if data == 'acumulado':  flash_goes19_dia = flash_goes19_sum\n",
        "\n",
        "    # quantidade de flashes por dia para a área TOTAL da imagem plotada\n",
        "    total = int(flash_goes19_dia[:,:].sum(('lon', 'lat')))\n",
        "\n",
        "    print('Processando dia=', i, ' / ', data, 'raios=', total)\n",
        "\n",
        "    # figura\n",
        "    map1 = ax[i].contourf(flash_goes19_dia['lon'],\n",
        "                          flash_goes19_dia['lat'],\n",
        "                          flash_goes19_dia[:,:]/64.,\n",
        "                          cmap='jet',\n",
        "                          vmin=0.1, vmax=10,\n",
        "                          levels=uplt.arange(0.1, 10, 1),\n",
        "                          extend='max')\n",
        "\n",
        "    # título de cada figura\n",
        "    if i == 0: ax[i].format(title=data, labels=[True, False, False, False])\n",
        "    if i == 1: ax[i].format(title=data, labels=[False, False, False, False])\n",
        "    if i == 2: ax[i].format(title=data, labels=[False, False, False, False])\n",
        "    if i == 3: ax[i].format(title=data, labels=[True, False, True, False])\n",
        "    if i == 4: ax[i].format(title=data, labels=[False, False, True, False])\n",
        "    if i == 5: ax[i].format(title='Acumulado Total', labels=[False, False, True, False])\n",
        "\n",
        "    # valor de chuva\n",
        "    ax[i].text(lonmax-11, latmin+0.5, f'Total Relâmpagos: {int(total)}', color='black', fontsize=20)\n",
        "\n",
        "    # contornos dos ESTADOS\n",
        "    ax[i].add_geometries(shp_ES, ccrs.PlateCarree(), edgecolor='black', facecolor='none', linewidth=1.6)\n",
        "    ax[i].add_geometries(shp_RJ, ccrs.PlateCarree(), edgecolor='black', facecolor='none', linewidth=1.6)\n",
        "    ax[i].add_geometries(shp_SP, ccrs.PlateCarree(), edgecolor='black', facecolor='none', linewidth=1.6)\n",
        "    ax[i].add_geometries(shp_PR, ccrs.PlateCarree(), edgecolor='black', facecolor='none', linewidth=1.6)\n",
        "    ax[i].add_geometries(shp_SC, ccrs.PlateCarree(), edgecolor='black', facecolor='none', linewidth=1.6)\n",
        "    ax[i].add_geometries(shp_RS, ccrs.PlateCarree(), edgecolor='black', facecolor='none', linewidth=1.6)\n",
        "\n",
        "# barra de cores\n",
        "fig.colorbar(map1, loc='b', label='relâmpagos/$km^{2}$*dia', ticks=1, ticklabelsize=30, labelsize=30, space=3.1, length=0.55, width=0.6)\n",
        "\n",
        "# salva figura\n",
        "fig.save(f'{dir}/output/relampagos_goes19/relampagos_goes19_2025-08-20a24_RS.jpg', dpi=300)\n",
        "\n",
        "# exibe a figura na tela\n",
        "uplt.show()"
      ],
      "metadata": {
        "id": "QxYd30o_WWzW"
      },
      "id": "QxYd30o_WWzW",
      "execution_count": null,
      "outputs": []
    },
    {
      "cell_type": "markdown",
      "source": [
        "# Contabiliza os relâmpagos por Estado do Brasil.\n",
        "Esta etapa demora 3min."
      ],
      "metadata": {
        "id": "HAUqB8Uw2GXU"
      },
      "id": "HAUqB8Uw2GXU"
    },
    {
      "cell_type": "code",
      "source": [
        "# lendo shapefile dos estados\n",
        "sp = salem.read_shapefile('https://github.com/evmpython/shapefile/raw/main/UFs/SP/SP_UF_2019.shp')\n",
        "pr = salem.read_shapefile('https://github.com/evmpython/shapefile/raw/main/UFs/PR/PR_UF_2019.shp')\n",
        "rs = salem.read_shapefile('https://github.com/evmpython/shapefile/raw/main/UFs/RS/RS_UF_2019.shp')"
      ],
      "metadata": {
        "id": "jhqdqxa0ERpq"
      },
      "id": "jhqdqxa0ERpq",
      "execution_count": null,
      "outputs": []
    },
    {
      "cell_type": "code",
      "source": [
        "# estraindo os flashes de cada estado\n",
        "flash_sp = flash_goes19_sum.salem.roi(shape=sp).sum(('lat', 'lon'))\n",
        "flash_pr = flash_goes19_sum.salem.roi(shape=pr).sum(('lat', 'lon'))\n",
        "flash_rs = flash_goes19_sum.salem.roi(shape=rs).sum(('lat', 'lon'))"
      ],
      "metadata": {
        "id": "hDTNEg97DwJP"
      },
      "id": "hDTNEg97DwJP",
      "execution_count": null,
      "outputs": []
    },
    {
      "cell_type": "code",
      "source": [
        "# imprime na tela a quantidade de relâmpagos de cada estado\n",
        "print('Total de relâmpago em SP', int(flash_sp))\n",
        "print('Total de relâmpago no PR', int(flash_pr))\n",
        "print('Total de relâmpago no RS', int(flash_rs))"
      ],
      "metadata": {
        "id": "PcIHqoagHwpf"
      },
      "id": "PcIHqoagHwpf",
      "execution_count": null,
      "outputs": []
    }
  ],
  "metadata": {
    "colab": {
      "collapsed_sections": [
        "KvJ4s_i81xtt",
        "XnMutUOWca0P"
      ],
      "provenance": []
    },
    "kernelspec": {
      "display_name": "Python 3 (ipykernel)",
      "language": "python",
      "name": "python3"
    },
    "language_info": {
      "codemirror_mode": {
        "name": "ipython",
        "version": 3
      },
      "file_extension": ".py",
      "mimetype": "text/x-python",
      "name": "python",
      "nbconvert_exporter": "python",
      "pygments_lexer": "ipython3",
      "version": "3.10.11"
    }
  },
  "nbformat": 4,
  "nbformat_minor": 5
}