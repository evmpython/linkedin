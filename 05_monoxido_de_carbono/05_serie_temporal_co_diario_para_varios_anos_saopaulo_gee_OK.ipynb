{
  "cells": [
    {
      "cell_type": "markdown",
      "id": "33C3HvMknMvX",
      "metadata": {
        "id": "33C3HvMknMvX"
      },
      "source": [
        "\n",
        "\n",
        "---\n",
        "\n",
        "\n",
        "#  🟢 Série Temporal de Monóxido de Carbono para o Município de São Paulo (SP)\n",
        "\n",
        "---\n",
        "**DADOS**:\n",
        "- `Acesso aos dados`: [Sentinel-5P NRTI CO: Near Real-Time Carbon Monoxide](https://developers.google.com/earth-engine/datasets/catalog/COPERNICUS_S5P_NRTI_L3_CO)\n",
        "- `Período dos dados`: 2018-11-22T12:00:13Z–2025-09-30T17:59:45Z\n",
        "- `Resolução espacial`: 1113.2 metros\n",
        "- `Resolução temporal`: diária\n",
        "\n",
        "\n",
        "---\n",
        "**REALIZAÇÃO**:\n",
        "\n",
        "\n",
        "- Realizado por: Enrique V. Mattos - 30/09/2025\n",
        "- E-mail: enrique@unifei.edu.br\n",
        "- GitHub: https://github.com/evmpython\n",
        "- Lattes: http://lattes.cnpq.br/8010078550088178\n",
        "\n",
        "\n",
        "\n",
        "---"
      ]
    },
    {
      "cell_type": "markdown",
      "id": "0jFqWV9Dliao",
      "metadata": {
        "id": "0jFqWV9Dliao"
      },
      "source": [
        "# **1° Passo:** Preparando ambiente"
      ]
    },
    {
      "cell_type": "code",
      "execution_count": null,
      "id": "CH8t87-FcENY",
      "metadata": {
        "id": "CH8t87-FcENY"
      },
      "outputs": [],
      "source": [
        "# instalando bibliotecas\n",
        "!pip install -q ultraplot cartopy\n",
        "\n",
        "# importa bibliotecas\n",
        "import numpy as np\n",
        "import ultraplot as uplt\n",
        "import matplotlib.pyplot as plt\n",
        "import pandas as pd\n",
        "import time\n",
        "from datetime import datetime, timedelta\n",
        "import cartopy.crs as ccrs\n",
        "import warnings\n",
        "warnings.filterwarnings('ignore')"
      ]
    },
    {
      "cell_type": "markdown",
      "id": "62_U9yZbXqZf",
      "metadata": {
        "id": "62_U9yZbXqZf"
      },
      "source": [
        "# **2° Passo:** Mapas interativos"
      ]
    },
    {
      "cell_type": "markdown",
      "id": "sKOeDMuiXm1n",
      "metadata": {
        "id": "sKOeDMuiXm1n"
      },
      "source": [
        "## 1) Preparando ambiente"
      ]
    },
    {
      "cell_type": "code",
      "execution_count": null,
      "id": "xijXfC-UXm8N",
      "metadata": {
        "id": "xijXfC-UXm8N"
      },
      "outputs": [],
      "source": [
        "# instalando eemont: biblioteca para extrair séries temporais no GEE\n",
        "!pip install -q eemont\n",
        "\n",
        "# importando GEE, geemap eemont\n",
        "import ee, geemap, eemont\n",
        "\n",
        "# inicializando GEE\n",
        "geemap.ee_initialize(project='ee-enrique')"
      ]
    },
    {
      "cell_type": "markdown",
      "id": "9UvYhceaXwgC",
      "metadata": {
        "id": "9UvYhceaXwgC"
      },
      "source": [
        "## 2) Mapa no GEE"
      ]
    },
    {
      "cell_type": "markdown",
      "source": [
        "Imagem global para o dia 22/08/2024\n",
        "- Temos 180 imagens em 1 dia de dados global"
      ],
      "metadata": {
        "id": "Sq6IX52Mv6Au"
      },
      "id": "Sq6IX52Mv6Au"
    },
    {
      "cell_type": "code",
      "source": [
        "# data inicial e final\n",
        "data_inicial = '2024-08-22'\n",
        "data_final = '2024-08-23'"
      ],
      "metadata": {
        "id": "Ic2jOw_6C8Ky"
      },
      "id": "Ic2jOw_6C8Ky",
      "execution_count": null,
      "outputs": []
    },
    {
      "cell_type": "code",
      "source": [
        "# carregando os dados de CO do satélite Sentinel 5P entre janeiro e agosto de 2025\n",
        "S5P_co = ee.ImageCollection('COPERNICUS/S5P/NRTI/L3_CO') \\\n",
        "           .filterDate(data_inicial, data_final) \\\n",
        "           .select('CO_column_number_density')"
      ],
      "metadata": {
        "id": "ChvVq0ILvW3m"
      },
      "id": "ChvVq0ILvW3m",
      "execution_count": null,
      "outputs": []
    },
    {
      "cell_type": "code",
      "source": [
        "# mostra a quantidade de imagens na tela\n",
        "print('quantidade de imagens', S5P_co.size().getInfo())"
      ],
      "metadata": {
        "id": "EO1eNgNCwgPY"
      },
      "id": "EO1eNgNCwgPY",
      "execution_count": null,
      "outputs": []
    },
    {
      "cell_type": "code",
      "source": [
        "# mostra os dados que foram carregados\n",
        "S5P_co"
      ],
      "metadata": {
        "id": "eyasTMRBwgSI"
      },
      "id": "eyasTMRBwgSI",
      "execution_count": null,
      "outputs": []
    },
    {
      "cell_type": "code",
      "source": [
        "# mostra as datas\n",
        "S5P_co2 = S5P_co.map(lambda img: img.set( {\"DATE\": ee.Date(img.get(\"system:time_start\")).format(\"YYYY-MM-dd hh:mm\")}))\n",
        "\n",
        "dates_list = S5P_co2.aggregate_array(\"DATE\").getInfo()\n",
        "dates_df = pd.DataFrame(dates_list, columns=['DATE'])\n",
        "dates_df"
      ],
      "metadata": {
        "id": "2ZGkvpgFwgVA"
      },
      "id": "2ZGkvpgFwgVA",
      "execution_count": null,
      "outputs": []
    },
    {
      "cell_type": "code",
      "source": [
        "#========================================================================================================================#\n",
        "#                                           PLOTA FIGURA\n",
        "#========================================================================================================================#\n",
        "# cria a moldura do mapa\n",
        "Map = geemap.Map()\n",
        "\n",
        "# parâmetros de visualização\n",
        "param_vis = {'min': 0, 'max': 150, 'palette': ['black', 'blue', 'purple', 'cyan', 'green', 'yellow', 'red']}\n",
        "\n",
        "\n",
        "# plota mapa: O variável \"CO_column_number_density\" esta em unidades de \"mol/m^2\" para transformar para \"Unidade Dobson (DU)\" multiplica-se por 2241.15\n",
        "Map.addLayer(S5P_co.mean().multiply(2241.15), param_vis, 'Mapa de CO')\n",
        "\n",
        "# contornos\n",
        "paises = ee.FeatureCollection('FAO/GAUL/2015/level0')\n",
        "style1 = {'color': 'black', 'fillColor': '00000000'}\n",
        "Map.addLayer(paises.style(**style1), {}, 'Paises')\n",
        "\n",
        "\n",
        "# barra de cores\n",
        "Map.add_colorbar_branca(colors=param_vis['palette'], vmin=param_vis['min'], vmax=param_vis['max'], layer_name='CO (DU)')\n",
        "\n",
        "# exibe na tela\n",
        "Map"
      ],
      "metadata": {
        "id": "E8O5nbqyvW6T"
      },
      "id": "E8O5nbqyvW6T",
      "execution_count": null,
      "outputs": []
    },
    {
      "cell_type": "markdown",
      "source": [
        "Imagem para São Paulo"
      ],
      "metadata": {
        "id": "v5eEJ2X5v-yv"
      },
      "id": "v5eEJ2X5v-yv"
    },
    {
      "cell_type": "code",
      "source": [
        "# contorno\n",
        "regiao = ee.FeatureCollection('FAO/GAUL/2015/level2').filter(ee.Filter.eq('ADM2_NAME', 'Sao Paulo'))\n",
        "regiao"
      ],
      "metadata": {
        "id": "fcXa_ZUVyM1I"
      },
      "id": "fcXa_ZUVyM1I",
      "execution_count": null,
      "outputs": []
    },
    {
      "cell_type": "code",
      "source": [
        "# carregando os dados de CO do satélite Sentinel 5P entre janeiro e agosto de 2025\n",
        "S5P_co = ee.ImageCollection('COPERNICUS/S5P/NRTI/L3_CO') \\\n",
        "           .filterDate(data_inicial, data_final) \\\n",
        "           .filterBounds(regiao) \\\n",
        "           .select('CO_column_number_density')"
      ],
      "metadata": {
        "id": "NGNkrO2NrOv_"
      },
      "id": "NGNkrO2NrOv_",
      "execution_count": null,
      "outputs": []
    },
    {
      "cell_type": "code",
      "source": [
        "# mostra a quantidade de imagens na tela\n",
        "print('quantidade de imagens', S5P_co.size().getInfo())"
      ],
      "metadata": {
        "id": "v61a4NOUyPzs"
      },
      "id": "v61a4NOUyPzs",
      "execution_count": null,
      "outputs": []
    },
    {
      "cell_type": "code",
      "source": [
        "# mostra os dados que foram carregados\n",
        "S5P_co"
      ],
      "metadata": {
        "id": "JsxOV6OlyP2S"
      },
      "id": "JsxOV6OlyP2S",
      "execution_count": null,
      "outputs": []
    },
    {
      "cell_type": "code",
      "source": [
        "# mostra as datas\n",
        "S5P_co2 = S5P_co.map(lambda img: img.set( {\"DATE\": ee.Date(img.get(\"system:time_start\")).format(\"YYYY-MM-dd hh:mm\")}))\n",
        "\n",
        "dates_list = S5P_co2.aggregate_array(\"DATE\").getInfo()\n",
        "dates_df = pd.DataFrame(dates_list, columns=['DATE'])\n",
        "dates_df"
      ],
      "metadata": {
        "id": "JsS_OVleyUV7"
      },
      "id": "JsS_OVleyUV7",
      "execution_count": null,
      "outputs": []
    },
    {
      "cell_type": "code",
      "execution_count": null,
      "id": "2-F9ypFrXm_D",
      "metadata": {
        "id": "2-F9ypFrXm_D"
      },
      "outputs": [],
      "source": [
        "#========================================================================================================================#\n",
        "#                                          FILTRA REGIÃO DE INTERESSE\n",
        "#========================================================================================================================#\n",
        "#brasil = ee.FeatureCollection('FAO/GAUL/2015/level0').filter(ee.Filter.eq('ADM0_NAME', 'Brazil'))\n",
        "#estado_mg = ee.FeatureCollection('FAO/GAUL/2015/level1').filter(ee.Filter.eq('ADM1_NAME', 'Minas Gerais'))\n",
        "#municipio_itajuba = ee.FeatureCollection('FAO/GAUL/2015/level2').filter(ee.Filter.eq('ADM2_NAME', 'Itajuba'))\n",
        "municipio_saopaulo = ee.FeatureCollection('FAO/GAUL/2015/level2').filter(ee.Filter.eq('ADM2_NAME', 'Sao Paulo'))\n",
        "\n",
        "#========================================================================================================================#\n",
        "#                                           PLOTA FIGURA\n",
        "#========================================================================================================================#\n",
        "# cria a moldura do mapa\n",
        "Map = geemap.Map()\n",
        "\n",
        "# centraliza o mapa na região\n",
        "Map.centerObject(regiao,10)\n",
        "\n",
        "# parâmetros de visualização\n",
        "param_vis = {'min': 0, 'max': 150, 'palette': ['black', 'blue', 'purple', 'cyan', 'green', 'yellow', 'red']}\n",
        "\n",
        "# plota mapa: O variável \"CO_column_number_density\" esta em unidades de \"mol/m^2\" para transformar para \"Unidade Dobson (DU)\" multiplica-se por 2241.15\n",
        "Map.addLayer(S5P_co.mean().clip(regiao).multiply(2241.15), param_vis, 'Mapa de CO')\n",
        "\n",
        "# contorno da região\n",
        "style1 = {'color': 'red', 'fillColor': '00000000'}\n",
        "Map.addLayer(regiao.style(**style1), {}, 'MG')\n",
        "\n",
        "# barra de cores\n",
        "Map.add_colorbar_branca(colors=param_vis['palette'], vmin=param_vis['min'], vmax=param_vis['max'], layer_name='CO (DU)')\n",
        "\n",
        "# exibe na tela\n",
        "Map"
      ]
    },
    {
      "cell_type": "markdown",
      "id": "AG1rgn_cX6Js",
      "metadata": {
        "id": "AG1rgn_cX6Js"
      },
      "source": [
        "## 3) Produz série temporal"
      ]
    },
    {
      "cell_type": "code",
      "execution_count": null,
      "id": "VJaYkbDEXnB2",
      "metadata": {
        "id": "VJaYkbDEXnB2"
      },
      "outputs": [],
      "source": [
        "%%time\n",
        "#========================================================================================================================#\n",
        "#                                            FILTRA REGIÃO DE INTERESSE\n",
        "#========================================================================================================================#\n",
        "#regiao = ee.FeatureCollection('FAO/GAUL/2015/level0').filter(ee.Filter.eq('ADM0_NAME', 'Brazil'))\n",
        "#regiao = ee.FeatureCollection('FAO/GAUL/2015/level1').filter(ee.Filter.eq('ADM1_NAME', 'Minas Gerais'))\n",
        "regiao = ee.FeatureCollection('FAO/GAUL/2015/level2').filter(ee.Filter.eq('ADM2_NAME', 'Sao Paulo'))\n",
        "\n",
        "#========================================================================================================================#\n",
        "#                                            DEFINE A DATA INICIAL E FINAL\n",
        "#========================================================================================================================#\n",
        "# período\n",
        "data_inicial = '2019-01-01'\n",
        "data_final = '2025-12-31'\n",
        "print('PROCESSANDO')\n",
        "print('#==========================================================================#')\n",
        "print('DATA INICIAL:', data_inicial)\n",
        "print('DATA FINAL:', data_final)\n",
        "print('#==========================================================================#')\n",
        "\n",
        "#========================================================================================================================#\n",
        "#                                                  CARREGA OS DADOS\n",
        "#========================================================================================================================#\n",
        "# carrega os dados\n",
        "S5P_co = ee.ImageCollection('COPERNICUS/S5P/NRTI/L3_CO') \\\n",
        "           .filterDate(data_inicial, data_final) \\\n",
        "           .filterBounds(regiao) \\\n",
        "           .select(['CO_column_number_density'], ['co'])\n",
        "\n",
        "#========================================================================================================================#\n",
        "#                                              PRODUZ SÉRIE TEMPORAL\n",
        "#========================================================================================================================#\n",
        "# gera a serie temporal\n",
        "S5P_co_ts = S5P_co.getTimeSeriesByRegion(geometry = regiao,\n",
        "                                         bands = 'co',\n",
        "                                         reducer = ee.Reducer.max(),\n",
        "                                         scale = 1000) # scale de 1000 metros\n",
        "\n",
        "# inserindo os dados numa tabela\n",
        "S5P_co_ts = geemap.ee_to_df(S5P_co_ts)\n",
        "\n",
        "# transformando -9999.0 em NaN\n",
        "S5P_co_ts[S5P_co_ts == -9999] = np.nan\n",
        "\n",
        "# eliminando os dados NaN\n",
        "S5P_co_ts = S5P_co_ts.dropna()\n",
        "\n",
        "# transforma de mol/m^2\tpara DU\n",
        "S5P_co_ts['co'] = S5P_co_ts['co']*2241.15\n",
        "\n",
        "# transformando para DateTime\n",
        "S5P_co_ts['date'] = pd.to_datetime(S5P_co_ts['date'], infer_datetime_format = True)\n",
        "\n",
        "# transformando a coluna de datas('date') no índice do DataFrame\n",
        "S5P_co_ts.index = S5P_co_ts['date']\n",
        "\n",
        "# remove coluna\n",
        "S5P_co_ts.drop(['reducer', 'date'], inplace=True, axis=1)\n",
        "\n",
        "#========================================================================================================================#\n",
        "#                                                 AGRUPA POR DIA\n",
        "#========================================================================================================================#\n",
        "# agrupa os dados por dia\n",
        "S5P_co_diario = S5P_co_ts.groupby(pd.Grouper(freq='1D')).max()\n",
        "\n",
        "#========================================================================================================================#\n",
        "#                                                 SALVA ARQUIVOS\n",
        "#========================================================================================================================#\n",
        "#S5P_co_ts.to_csv(f'{dir}/output/02_MONOXIDO_CARBONO/tabela_S5P_co_total.csv')\n",
        "#S5P_co_diario.to_csv(f'{dir}/output/02_MONOXIDO_CARBONO/tabela_S5P_co_diaria.csv')"
      ]
    },
    {
      "cell_type": "code",
      "source": [
        "S5P_co_ts"
      ],
      "metadata": {
        "id": "Mdl0dgb2JI1V"
      },
      "id": "Mdl0dgb2JI1V",
      "execution_count": null,
      "outputs": []
    },
    {
      "cell_type": "code",
      "source": [
        "S5P_co_diario"
      ],
      "metadata": {
        "id": "foS65ayIIffA"
      },
      "id": "foS65ayIIffA",
      "execution_count": null,
      "outputs": []
    },
    {
      "cell_type": "markdown",
      "id": "eTzL-HZrEqzB",
      "metadata": {
        "id": "eTzL-HZrEqzB"
      },
      "source": [
        "# **3° Passo:** Plota figura para 2025"
      ]
    },
    {
      "cell_type": "code",
      "execution_count": null,
      "id": "7IXIdVADElVq",
      "metadata": {
        "id": "7IXIdVADElVq"
      },
      "outputs": [],
      "source": [
        "# cria a moldura da figura\n",
        "fig, ax = uplt.subplots(figsize=(7,4), tight=True)\n",
        "\n",
        "# plota gráfico de linha\n",
        "di = '2025-01-01'\n",
        "df = str(S5P_co_diario.index[-1])[0:10]\n",
        "\n",
        "ax.plot(S5P_co_ts[di:df]['co'], color='bright blue')\n",
        "\n",
        "# formato dos eixos\n",
        "ax.format(ltitle=f'Série Temporal Diária para Cidade de SP: {di} à {df}',\n",
        "          xlabel='Ano-mês',\n",
        "          ylabel='Monóxido de Carbono (DU)',\n",
        "          small='15px',\n",
        "          large='15px',\n",
        "          abc=False,\n",
        "          xrotation=0,\n",
        "          ytickminor=False,\n",
        "          xtickminor=False)\n",
        "\n",
        "# plota percentil de 50%, 95% e 99%\n",
        "p50 = np.percentile(S5P_co_ts['co'].values, 50)\n",
        "p95 = np.percentile(S5P_co_ts['co'].values, 95)\n",
        "p99 = np.percentile(S5P_co_ts['co'].values, 99)\n",
        "\n",
        "# plota percentil de 50%, 95% e 99%\n",
        "ax.axhline(p50, color='gray', lw=0.7, linestyle='--')\n",
        "ax.axhline(p95, color='gray', lw=0.7, linestyle='--')\n",
        "ax.axhline(p99, color='gray', lw=0.7, linestyle='--')\n",
        "\n",
        "# Calcular offset automático baseado no range dos dados\n",
        "y_range = ax.get_ylim()[1] - ax.get_ylim()[0]\n",
        "\n",
        "offset = y_range * 0.01  # 2% do range vertical\n",
        "\n",
        "ax.text(ax.get_xlim()[1] * 0.9999, p50 + offset, f'P50%',\n",
        "        color='grey', fontsize=9, ha='right', va='bottom',\n",
        "        bbox=dict(boxstyle='round', facecolor='black', edgecolor='black', linewidth=1))\n",
        "\n",
        "ax.text(ax.get_xlim()[1] * 0.9999, p95 + offset, f'P95%',\n",
        "        color='grey', fontsize=9, ha='right', va='bottom',\n",
        "        bbox=dict(boxstyle='round', facecolor='black', edgecolor='black', linewidth=1))\n",
        "\n",
        "ax.text(ax.get_xlim()[1] * 0.9999, p99 + offset, f'P99%',\n",
        "        color='grey', fontsize=9, ha='right', va='bottom',\n",
        "        bbox=dict(boxstyle='round', facecolor='black', edgecolor='black', linewidth=1))\n",
        "\n",
        "# nome do satélite\n",
        "ax.text(0.81, 1.02, 'Sentinel 5P (1km)', color='grey', fontsize=11, transform=ax.transAxes)\n",
        "\n",
        "# salva figura\n",
        "fig.save('serie_temporal_co_diario_SP_1km_2025.jpg', dpi=300)\n",
        "\n",
        "# exibe figura na tela\n",
        "uplt.show()"
      ]
    },
    {
      "cell_type": "markdown",
      "source": [
        "# **4° Passo:** Plota figura entre 2019 e 2025"
      ],
      "metadata": {
        "id": "z7FiwFC6JwNx"
      },
      "id": "z7FiwFC6JwNx"
    },
    {
      "cell_type": "code",
      "source": [
        "S5P_co_ts"
      ],
      "metadata": {
        "id": "UDa6O5Xe-ZCP"
      },
      "id": "UDa6O5Xe-ZCP",
      "execution_count": null,
      "outputs": []
    },
    {
      "cell_type": "code",
      "source": [
        "S5P_co_diario"
      ],
      "metadata": {
        "id": "S67rKRs0RFal"
      },
      "id": "S67rKRs0RFal",
      "execution_count": null,
      "outputs": []
    },
    {
      "cell_type": "code",
      "source": [
        "# cria a moldura da figura\n",
        "fig, ax = uplt.subplots(figsize=(7,4), tight=True)\n",
        "\n",
        "# data inicial e final da série temporal\n",
        "di = str(S5P_co_diario.index[0])[0:10]\n",
        "df = str(S5P_co_diario.index[-1])[0:10]\n",
        "\n",
        "# plota gráfico de linha\n",
        "ax.plot(S5P_co_ts[di: '2019-12-31']['co'], color='grey', label='2019')\n",
        "ax.plot(S5P_co_ts['2020-01-01': '2020-12-31']['co'], color='cyan', label='2020')\n",
        "ax.plot(S5P_co_ts['2021-01-01': '2021-12-31']['co'], color='bright blue', label='2021')\n",
        "ax.plot(S5P_co_ts['2022-01-01': '2022-12-31']['co'], color='green', label='2022')\n",
        "ax.plot(S5P_co_ts['2023-01-01': '2023-12-31']['co'], color='yellow', label='2023')\n",
        "ax.plot(S5P_co_ts['2024-01-01': '2024-12-31']['co'], color='orange', label='2024')\n",
        "ax.plot(S5P_co_ts['2025-01-01': df]['co'], color='bright red', label='2025')\n",
        "\n",
        "# formatação dos eixos\n",
        "ax.format(ltitle=f'Série Temporal Diária para Cidade de SP: {di} à {df}',\n",
        "          xlabel='Ano',\n",
        "          ylabel='Monóxido de Carbono (DU)',\n",
        "          small='15px',\n",
        "          large='15px',\n",
        "          abc=False,\n",
        "          xrotation=0,\n",
        "          ytickminor=False,\n",
        "          xtickminor=False)\n",
        "\n",
        "# plota percentil de 50%, 95% e 99%\n",
        "p50 = np.percentile(S5P_co_ts['co'].values, 50)\n",
        "p95 = np.percentile(S5P_co_ts['co'].values, 95)\n",
        "p99 = np.percentile(S5P_co_ts['co'].values, 99)\n",
        "\n",
        "# plota percentil de 50%, 95% e 99%\n",
        "ax.axhline(p50, color='gray', lw=0.7, linestyle='--')\n",
        "ax.axhline(p95, color='gray', lw=0.7, linestyle='--')\n",
        "ax.axhline(p99, color='gray', lw=0.7, linestyle='--')\n",
        "\n",
        "# Calcular offset automático baseado no range dos dados\n",
        "y_range = ax.get_ylim()[1] - ax.get_ylim()[0]\n",
        "\n",
        "offset = y_range * 0.01  # 2% do range vertical\n",
        "\n",
        "ax.text(ax.get_xlim()[1] * 0.999, p50 + offset, f'P50%',\n",
        "        color='grey', fontsize=9, ha='right', va='bottom',\n",
        "        bbox=dict(boxstyle='round', facecolor='black', edgecolor='black', linewidth=1))\n",
        "\n",
        "ax.text(ax.get_xlim()[1] * 0.999, p95 + offset, f'P95%',\n",
        "        color='grey', fontsize=9, ha='right', va='bottom',\n",
        "        bbox=dict(boxstyle='round', facecolor='black', edgecolor='black', linewidth=1))\n",
        "\n",
        "ax.text(ax.get_xlim()[1] * 0.999, p99 + offset, f'P99%',\n",
        "        color='grey', fontsize=9, ha='right', va='bottom',\n",
        "        bbox=dict(boxstyle='round', facecolor='black', edgecolor='black', linewidth=1))\n",
        "\n",
        "# legenda\n",
        "ax.legend(loc='ul', ncols=1, frameon=False)\n",
        "\n",
        "# nome do satélite\n",
        "ax.text(0.81, 1.02, 'Sentinel 5P (1km)', color='grey', fontsize=11, transform=ax.transAxes)\n",
        "\n",
        "# salva figura\n",
        "fig.save('serie_temporal_co_diario_SP_1km_2019_2025.jpg', dpi=300)\n",
        "\n",
        "# exibe figura na tela\n",
        "uplt.show()"
      ],
      "metadata": {
        "id": "wa69eKw1OhCi"
      },
      "id": "wa69eKw1OhCi",
      "execution_count": null,
      "outputs": []
    }
  ],
  "metadata": {
    "colab": {
      "collapsed_sections": [
        "0jFqWV9Dliao",
        "sKOeDMuiXm1n",
        "9UvYhceaXwgC"
      ],
      "provenance": []
    },
    "kernelspec": {
      "display_name": "Python 3",
      "language": "python",
      "name": "python3"
    },
    "language_info": {
      "codemirror_mode": {
        "name": "ipython",
        "version": 3
      },
      "file_extension": ".py",
      "mimetype": "text/x-python",
      "name": "python",
      "nbconvert_exporter": "python",
      "pygments_lexer": "ipython3",
      "version": "3.9.6"
    }
  },
  "nbformat": 4,
  "nbformat_minor": 5
}