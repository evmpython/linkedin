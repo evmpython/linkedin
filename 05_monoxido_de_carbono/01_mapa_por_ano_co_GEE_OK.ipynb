{
  "cells": [
    {
      "cell_type": "markdown",
      "id": "33C3HvMknMvX",
      "metadata": {
        "id": "33C3HvMknMvX"
      },
      "source": [
        "\n",
        "\n",
        "---\n",
        "\n",
        "\n",
        "#  🟢 Mapa de Monóxido de Carbono Por Ano Para o Brasil\n",
        "\n",
        "---\n",
        "**DADOS**:\n",
        "- `Acesso aos dados`: [Sentinel-5P NRTI CO: Near Real-Time Carbon Monoxide](https://developers.google.com/earth-engine/datasets/catalog/COPERNICUS_S5P_NRTI_L3_CO)\n",
        "- `Período dos dados`: 2018-11-22T12:00:13Z–2025-09-29T13:24:45Z\n",
        "- `Resolução espacial`: **1113.2 metros**\n",
        "- `Resolução temporal`: diária\n",
        "\n",
        "\n",
        "---\n",
        "**REALIZAÇÃO**:\n",
        "\n",
        "\n",
        "- Realizado por: Enrique V. Mattos - 30/09/2025\n",
        "- E-mail: enrique@unifei.edu.br\n",
        "- GitHub: https://github.com/evmpython\n",
        "- Lattes: http://lattes.cnpq.br/8010078550088178\n",
        "\n",
        "\n",
        "\n",
        "---"
      ]
    },
    {
      "cell_type": "markdown",
      "id": "0jFqWV9Dliao",
      "metadata": {
        "id": "0jFqWV9Dliao"
      },
      "source": [
        "# **1° Passo:** Preparando ambiente\n",
        "\n"
      ]
    },
    {
      "cell_type": "code",
      "execution_count": null,
      "id": "CH8t87-FcENY",
      "metadata": {
        "id": "CH8t87-FcENY"
      },
      "outputs": [],
      "source": [
        "# instalando bibliotecas\n",
        "!pip install -q ultraplot cartopy salem xarray dask netCDF4 bottleneck rasterio pyproj geopandas\n",
        "\n",
        "# importa bibliotecas\n",
        "import pandas as pd\n",
        "import numpy as np\n",
        "import ultraplot as uplt\n",
        "import matplotlib.pyplot as plt\n",
        "import pandas as pd\n",
        "import xarray as xr\n",
        "import time\n",
        "from datetime import datetime, timedelta\n",
        "import cartopy.crs as ccrs\n",
        "import numpy as np\n",
        "import matplotlib.pyplot as plt\n",
        "import pandas as pd\n",
        "import seaborn as sns\n",
        "import time\n",
        "from zipfile import ZipFile\n",
        "from datetime import datetime\n",
        "import glob\n",
        "import xarray as xr\n",
        "import os\n",
        "import cartopy.crs as ccrs\n",
        "from datetime import datetime, timedelta\n",
        "import salem\n",
        "import glob\n",
        "import cartopy.io.shapereader as shpreader\n",
        "import warnings\n",
        "warnings.filterwarnings('ignore')\n",
        "\n",
        "from google.colab import drive\n",
        "drive.mount('/content/drive')\n",
        "\n",
        "dir = '/content/drive/MyDrive/PYHTON/00_GITHUB/16_LINKEDIN/05_monoxido_de_carbono'"
      ]
    },
    {
      "cell_type": "markdown",
      "id": "EnO1rSEVwynL",
      "metadata": {
        "id": "EnO1rSEVwynL"
      },
      "source": [
        "# **2° Passo:** Carrega shapefile"
      ]
    },
    {
      "cell_type": "code",
      "execution_count": null,
      "id": "7IB1tHmdwysc",
      "metadata": {
        "id": "7IB1tHmdwysc"
      },
      "outputs": [],
      "source": [
        "# url dos shapefiles\n",
        "url = 'https://github.com/evmpython/shapefile/raw/main/'\n",
        "\n",
        "# leitura do shapefile com a biblioteca SALEM\n",
        "shp_brasil = salem.read_shapefile(f'{url}/brasil/BRAZIL.shp')\n",
        "#shp_sp = salem.read_shapefile(f'{url}/UFs/SP/SP_UF_2019.shp')\n",
        "\n",
        "# limites do estado de MG\n",
        "lonmin, lonmax, latmin, latmax = -52., -39., -23., -14.\n",
        "\n",
        "# limites do Brasil\n",
        "lonmin, lonmax, latmin, latmax = -75.0, -33.0, -35.0, 7.0\n",
        "\n",
        "# mostra dados do shapefile do Brasil\n",
        "shp_brasil"
      ]
    },
    {
      "cell_type": "markdown",
      "id": "nu_aOiKmElsz",
      "metadata": {
        "id": "nu_aOiKmElsz"
      },
      "source": [
        "# **3° Passo:**  Inicializando o Google Earth Engine"
      ]
    },
    {
      "cell_type": "code",
      "execution_count": null,
      "id": "Kba97vSOBuPn",
      "metadata": {
        "id": "Kba97vSOBuPn"
      },
      "outputs": [],
      "source": [
        "# instalando bibliotecas\n",
        "!pip install -q xee\n",
        "\n",
        "# importando bibliotecas\n",
        "import ee, geemap, xee\n",
        "\n",
        "# inicializando GEE\n",
        "geemap.ee_initialize(project='ee-enrique',\n",
        "                     opt_url='https://earthengine-highvolume.googleapis.com')"
      ]
    },
    {
      "cell_type": "markdown",
      "id": "90SZB2y8FJsE",
      "metadata": {
        "id": "90SZB2y8FJsE"
      },
      "source": [
        "# **4° Passo:**  Mapa interativo\n",
        "- `Agosto de 2024` tem `274 imagens` interceptando o Brasil"
      ]
    },
    {
      "cell_type": "code",
      "source": [
        "imagens_por_ano = 274*12\n",
        "imagens_2020_2025 = imagens_por_ano*6\n",
        "print(imagens_por_ano, imagens_2020_2025)"
      ],
      "metadata": {
        "colab": {
          "base_uri": "https://localhost:8080/",
          "height": 34
        },
        "id": "n1ITLJTHkhTp",
        "outputId": "7006ea80-2cb6-4ba9-f781-1eb822f4bf26"
      },
      "id": "n1ITLJTHkhTp",
      "execution_count": null,
      "outputs": [
        {
          "output_type": "display_data",
          "data": {
            "text/plain": [
              "<IPython.core.display.HTML object>"
            ],
            "text/html": [
              "\n",
              "            <style>\n",
              "                .geemap-dark {\n",
              "                    --jp-widgets-color: white;\n",
              "                    --jp-widgets-label-color: white;\n",
              "                    --jp-ui-font-color1: white;\n",
              "                    --jp-layout-color2: #454545;\n",
              "                    background-color: #383838;\n",
              "                }\n",
              "\n",
              "                .geemap-dark .jupyter-button {\n",
              "                    --jp-layout-color3: #383838;\n",
              "                }\n",
              "\n",
              "                .geemap-colab {\n",
              "                    background-color: var(--colab-primary-surface-color, white);\n",
              "                }\n",
              "\n",
              "                .geemap-colab .jupyter-button {\n",
              "                    --jp-layout-color3: var(--colab-primary-surface-color, white);\n",
              "                }\n",
              "            </style>\n",
              "            "
            ]
          },
          "metadata": {}
        },
        {
          "output_type": "stream",
          "name": "stdout",
          "text": [
            "3288 19728\n"
          ]
        }
      ]
    },
    {
      "cell_type": "code",
      "execution_count": null,
      "id": "317pp38O4Sub",
      "metadata": {
        "id": "317pp38O4Sub"
      },
      "outputs": [],
      "source": [
        "%%time\n",
        "#========================================================================================================================#\n",
        "#                                          FILTRA REGIÃO DE INTERESSE\n",
        "#========================================================================================================================#\n",
        "brasil = ee.FeatureCollection('FAO/GAUL/2015/level0').filter(ee.Filter.eq('ADM0_NAME', 'Brazil'))\n",
        "#estado_mg = ee.FeatureCollection('FAO/GAUL/2015/level1').filter(ee.Filter.eq('ADM1_NAME', 'Minas Gerais'))\n",
        "#municipio_itajuba = ee.FeatureCollection('FAO/GAUL/2015/level2').filter(ee.Filter.eq('ADM2_NAME', 'Itajuba'))\n",
        "\n",
        "#========================================================================================================================#\n",
        "#                                            CARREGA OS DADOS\n",
        "#========================================================================================================================#\n",
        "# data de referência\n",
        "data_referencia = '2024-08-01'\n",
        "\n",
        "# data atual\n",
        "data_inicial = ee.Date(data_referencia)\n",
        "\n",
        "# data do próximo mês\n",
        "data_final = data_inicial.advance(1, 'month')\n",
        "\n",
        "# imprime na tela\n",
        "data_string_i = data_inicial.format('YYYY-MM-dd')\n",
        "data_string_f = data_final.format('YYYY-MM-dd')\n",
        "print('#-------------------------------------------#')\n",
        "print('Data Inicial:', data_string_i.getInfo())\n",
        "print('Data Final', data_string_f.getInfo())\n",
        "print('#-------------------------------------------#')\n",
        "\n",
        "# carrega os dados\n",
        "S5P_co = ee.ImageCollection('COPERNICUS/S5P/NRTI/L3_CO') \\\n",
        "           .filterDate(data_inicial, data_final) \\\n",
        "           .select('CO_column_number_density') \\\n",
        "           .filterBounds(brasil)\n",
        "\n",
        "#========================================================================================================================#\n",
        "#                                           PLOTA FIGURA\n",
        "#========================================================================================================================#\n",
        "# cria a moldura do mapa\n",
        "Map = geemap.Map(basemap = 'SATELLITE')\n",
        "\n",
        "# centraliza o mapa na região\n",
        "Map.centerObject(brasil, 4)\n",
        "\n",
        "# parâmetros de visualização\n",
        "param_vis = {'min': 0, 'max': 300, 'palette': ['black', 'blue', 'purple', 'cyan', 'green', 'yellow', 'red']}\n",
        "\n",
        "# plota mapa.\n",
        "Map.addLayer(S5P_co.max().clip(brasil).multiply(2241.15), param_vis, 'Monóxido de Carbono (CO)')\n",
        "\n",
        "# contorno da região\n",
        "style1 = {'color': 'red', 'fillColor': '00000000'}\n",
        "Map.addLayer(brasil.style(**style1), {}, 'Brasil')\n",
        "\n",
        "# barra de cores\n",
        "Map.add_colorbar_branca(colors=param_vis['palette'], vmin=param_vis['min'], vmax=param_vis['max'], layer_name='CO (DU)')\n",
        "#Map.add_colorbar(param_vis, label='Monóxido de Carbono (DU)', orientation='vertical')\n",
        "\n",
        "# exibe na tela\n",
        "Map"
      ]
    },
    {
      "cell_type": "code",
      "source": [
        "%%time\n",
        "# mostra datas\n",
        "datas = pd.DataFrame(ee.List(S5P_co.aggregate_array('system:time_start')) \\\n",
        "                    .map(lambda d: ee.Date(d).format('YYYY-MM-dd HH:mm')) \\\n",
        "                    .getInfo())\n",
        "datas"
      ],
      "metadata": {
        "id": "k_-OmMDJNoUM"
      },
      "id": "k_-OmMDJNoUM",
      "execution_count": null,
      "outputs": []
    },
    {
      "cell_type": "code",
      "execution_count": null,
      "id": "n042ypFTq2Mp",
      "metadata": {
        "id": "n042ypFTq2Mp"
      },
      "outputs": [],
      "source": [
        "# pega as imagens do dia primeiro. Ou seja, em 1 dia de dados, 9 imagens interceptam o Brasil\n",
        "datas[0:10]"
      ]
    },
    {
      "cell_type": "markdown",
      "id": "gNHzD1-gFNcN",
      "metadata": {
        "id": "gNHzD1-gFNcN"
      },
      "source": [
        "# **5° Passo:**  Dados para o mês de Agosto de 2024: `1 mês`"
      ]
    },
    {
      "cell_type": "code",
      "execution_count": null,
      "id": "bRvkR7xf0WSE",
      "metadata": {
        "id": "bRvkR7xf0WSE"
      },
      "outputs": [],
      "source": [
        "%%time\n",
        "# shapefile do Brasil\n",
        "brasil = ee.FeatureCollection('FAO/GAUL/2015/level0').filter(ee.Filter.eq('ADM0_NAME', 'Brazil'))\n",
        "\n",
        "# data de referência\n",
        "data_referencia = '2024-08-01'\n",
        "\n",
        "# data atual\n",
        "data_inicial = ee.Date(data_referencia)\n",
        "\n",
        "# data do próximo mês\n",
        "data_final = data_inicial.advance(1, 'month')\n",
        "\n",
        "# carregando a coleção de dados de CO do Sentinel-5P\n",
        "co_mensal = ee.ImageCollection('COPERNICUS/S5P/NRTI/L3_CO') \\\n",
        "              .filterDate(data_inicial, data_final) \\\n",
        "              .select(['CO_column_number_density'] , ['co']) \\\n",
        "              .map(lambda img: img.clip(brasil).copyProperties(img, ['system:time_start'])) \\\n",
        "              .map(lambda img: img.multiply(2241.15).copyProperties(img, ['system:time_start'])) \\\n",
        "              .max()\n",
        "\n",
        "# gera dataset\n",
        "ds = xr.open_dataset(co_mensal,\n",
        "                     engine = 'ee',\n",
        "                     crs = 'EPSG:4326',\n",
        "                     scale = 0.20,\n",
        "                     geometry = brasil.geometry())\n",
        "\n",
        "# muda de \"(time, lon, lat)\" para \"(time, lat, lon)\"\n",
        "ds = ds.transpose(\"time\", \"lat\", \"lon\")\n",
        "\n",
        "# salva arquivo\n",
        "ds.to_netcdf(f'{dir}/output/codigo_01/1_mes_S5P_co_brasil_20km_{data_referencia[0:7]}.nc')"
      ]
    },
    {
      "cell_type": "code",
      "source": [
        "# mostra o dataset\n",
        "dsx = xr.open_dataset(f'{dir}/output/codigo_01/S5P_co_brasil_20km_{data_referencia[0:7]}.nc')\n",
        "dsx"
      ],
      "metadata": {
        "id": "bdN12YLlQKc1"
      },
      "id": "bdN12YLlQKc1",
      "execution_count": null,
      "outputs": []
    },
    {
      "cell_type": "code",
      "execution_count": null,
      "id": "EfU_irgPTzsQ",
      "metadata": {
        "id": "EfU_irgPTzsQ"
      },
      "outputs": [],
      "source": [
        "# mostra o dataset\n",
        "dsx = xr.open_dataset(f'{dir}/output/codigo_01/S5P_co_brasil_20km_{data_referencia[0:7]}.nc')\n",
        "dsx"
      ]
    },
    {
      "cell_type": "code",
      "execution_count": null,
      "id": "uk4fgr3qhZIa",
      "metadata": {
        "id": "uk4fgr3qhZIa"
      },
      "outputs": [],
      "source": [
        "# plota figura\n",
        "dsx['co'].plot(vmin=50, vmax=350, cmap='lajolla')"
      ]
    },
    {
      "cell_type": "markdown",
      "id": "7xZEUEcJrReV",
      "metadata": {
        "id": "7xZEUEcJrReV"
      },
      "source": [
        "# **6° Passo:**  Dados mensais para os anos de 2019 à 2025"
      ]
    },
    {
      "cell_type": "markdown",
      "id": "F3hJ6qxvtabX",
      "metadata": {
        "id": "F3hJ6qxvtabX"
      },
      "source": [
        "## Gera arquivos netcdf mensais\n",
        "- Para processar `1 ano` de dados gasta `9min e 11s`.\n",
        "\n",
        "- Para processar `7 anos (2019 à 2025)` de dados gasta `43min e 51s`."
      ]
    },
    {
      "cell_type": "code",
      "execution_count": null,
      "id": "USM-Ku46rSR8",
      "metadata": {
        "id": "USM-Ku46rSR8"
      },
      "outputs": [],
      "source": [
        "%%time\n",
        "# shapefile do Brasil\n",
        "brasil = ee.FeatureCollection('FAO/GAUL/2015/level0').filter(ee.Filter.eq('ADM0_NAME', 'Brazil'))\n",
        "\n",
        "# data inicial\n",
        "data_inicial = '2019-01-01'\n",
        "data_inicial = '2025-08-01'\n",
        "\n",
        "# data final\n",
        "data_final = '2025-09-01'\n",
        "\n",
        "# loop dos anos\n",
        "for file in pd.date_range(data_inicial.replace('-', ''), data_final.replace('-', ''), freq='1m'):\n",
        "\n",
        "    # extrai ano e mês\n",
        "    ano = file.strftime('%Y')\n",
        "    mes = file.strftime('%m')\n",
        "\n",
        "    print('#-------------------------------------------#')\n",
        "    print(f' PROCESSANDO =====>>>>: {ano}-{mes}')\n",
        "    print('#-------------------------------------------#')\n",
        "\n",
        "    # monta data no formato \"2024-01-01\"\n",
        "    date = f\"{ano}-{mes}-{file.strftime('%d')}\"\n",
        "\n",
        "    # mês atual\n",
        "    mes_atual = ee.Date(date)\n",
        "\n",
        "    # próximo mês\n",
        "    mes_prox = mes_atual.advance(1, 'month')\n",
        "\n",
        "    # carregando a coleção de dados de CO do Sentinel-5P\n",
        "    co_mensal = ee.ImageCollection('COPERNICUS/S5P/NRTI/L3_CO') \\\n",
        "                  .filterDate(mes_atual, mes_prox) \\\n",
        "                  .select(['CO_column_number_density'] , ['co']) \\\n",
        "                  .map(lambda img: img.clip(brasil).copyProperties(img, img.propertyNames()))\\\n",
        "                  .map(lambda img: img.multiply(2241.15).copyProperties(img, ['system:time_start'])) \\\n",
        "                  .max()\n",
        "\n",
        "    # gera dataset\n",
        "    ds = xr.open_dataset(co_mensal,\n",
        "                         engine = 'ee',\n",
        "                         crs = 'EPSG:4326',\n",
        "                         scale = 0.20,\n",
        "                         geometry = brasil.geometry())\n",
        "\n",
        "    # muda de \"(time, lon, lat)\" para \"(time, lat, lon)\"\n",
        "    ds = ds.transpose(\"time\", \"lat\", \"lon\")\n",
        "\n",
        "    # salva arquivo\n",
        "    ds.to_netcdf(f'{dir}/output/codigo_01/S5P_co_brasil_20km_{ano}-{mes}.nc')"
      ]
    },
    {
      "cell_type": "code",
      "execution_count": null,
      "id": "SUFHXMsQ_ZXM",
      "metadata": {
        "colab": {
          "background_save": true
        },
        "id": "SUFHXMsQ_ZXM"
      },
      "outputs": [],
      "source": [
        "dsx = xr.open_dataset(f'{dir}/output/codigo_01/S5P_co_brasil_50km_2024-08.nc')\n",
        "dsx"
      ]
    },
    {
      "cell_type": "code",
      "execution_count": null,
      "id": "o14U1IE__ZZt",
      "metadata": {
        "colab": {
          "background_save": true
        },
        "id": "o14U1IE__ZZt"
      },
      "outputs": [],
      "source": [
        "# plota figura\n",
        "dsx['co'].plot(vmin=50, vmax=350, cmap='lajolla')"
      ]
    },
    {
      "cell_type": "code",
      "execution_count": null,
      "id": "6VQ4R1aHuqlI",
      "metadata": {
        "colab": {
          "background_save": true
        },
        "id": "6VQ4R1aHuqlI"
      },
      "outputs": [],
      "source": [
        "ds"
      ]
    },
    {
      "cell_type": "markdown",
      "id": "ZWjC0c9xte5_",
      "metadata": {
        "id": "ZWjC0c9xte5_"
      },
      "source": [
        "## Acumula os dados por ano"
      ]
    },
    {
      "cell_type": "code",
      "execution_count": null,
      "id": "bbE43LbYrYqK",
      "metadata": {
        "id": "bbE43LbYrYqK"
      },
      "outputs": [],
      "source": [
        "%%time\n",
        "# loop dos anos\n",
        "for file in pd.date_range('20190101', '20251231', freq='1Y'):\n",
        "\n",
        "    # extrai ano e mês\n",
        "    ano = file.strftime('%Y')\n",
        "    print(f' PROCESSANDO =====>>>>: {ano}')\n",
        "\n",
        "    # lista dos arquivos\n",
        "    files = sorted(glob.glob(f'{dir}/output/codigo_01/S5P_co_brasil_20km_{ano}-*.nc'))\n",
        "\n",
        "    # leitura dos arquivos\n",
        "    ds_anual = xr.open_mfdataset(files, concat_dim='time', combine='nested') # /content/S5P_co_brasil_50km_2019-01.nc\n",
        "\n",
        "    # calcula o máximo valor\n",
        "    ds_anual = ds_anual.max(dim='time')\n",
        "\n",
        "    # salva arquivo\n",
        "    ds_anual.to_netcdf(f'{dir}/output/codigo_01/anual_S5P_co_brasil_20km_{ano}.nc')"
      ]
    },
    {
      "cell_type": "code",
      "source": [
        "# arquivos\n",
        "files"
      ],
      "metadata": {
        "id": "5MvuO0NVZ39C"
      },
      "id": "5MvuO0NVZ39C",
      "execution_count": null,
      "outputs": []
    },
    {
      "cell_type": "code",
      "execution_count": null,
      "id": "3gxX-OUqflXQ",
      "metadata": {
        "colab": {
          "background_save": true
        },
        "id": "3gxX-OUqflXQ"
      },
      "outputs": [],
      "source": [
        "# mostra os dados\n",
        "ds_anual"
      ]
    },
    {
      "cell_type": "markdown",
      "id": "RPmq0gSSIWkW",
      "metadata": {
        "id": "RPmq0gSSIWkW"
      },
      "source": [
        "## Plota figura"
      ]
    },
    {
      "cell_type": "code",
      "execution_count": null,
      "id": "t6rxi8i7ffBs",
      "metadata": {
        "id": "t6rxi8i7ffBs"
      },
      "outputs": [],
      "source": [
        "ds"
      ]
    },
    {
      "cell_type": "code",
      "execution_count": null,
      "id": "ek_hI4jY21rG",
      "metadata": {
        "id": "ek_hI4jY21rG"
      },
      "outputs": [],
      "source": [
        "%%time\n",
        "# cria a moldura da figura\n",
        "fig, ax = uplt.subplots(figsize=(10, 8.5),\n",
        "                        nrows=2, ncols=3,\n",
        "                        tight=True,\n",
        "                        proj='pcarree',\n",
        "                        sharex=True, sharey=True)\n",
        "\n",
        "# formatação dos eixos\n",
        "ax.format(coast=False, borders=False, innerborders=False,\n",
        "          labels=False, latlines=5, lonlines=10,\n",
        "          latlim=(latmin, latmax), lonlim=(lonmin, lonmax),\n",
        "          suptitle=f'Annual Carbon Monoxide (CO) for Brazil',\n",
        "          small='20px', large='25px',\n",
        "          linewidth=0, grid=False)\n",
        "\n",
        "# loop dos anos\n",
        "for i, ano in enumerate(np.arange(2020, 2026)):\n",
        "\n",
        "  # exibe na tela o ano que esta sendo processado\n",
        "  print(f'Processando o ano: .... {i} {ano}')\n",
        "\n",
        "  # leitura do arquivo netcdf\n",
        "  ds = xr.open_dataset(f'{dir}/output/codigo_01/anual_S5P_co_brasil_20km_{ano}.nc') # anual_S5P_co_brasil_20km_2019.nc\n",
        "\n",
        "  # plota figura\n",
        "  map1 = ax[i].contourf(ds['lon'],\n",
        "                        ds['lat'],\n",
        "                        ds['co'][:,:].salem.roi(shape=shp_brasil),\n",
        "                        cmap='lajolla',\n",
        "                        vmin=50, vmax=350,\n",
        "                        levels=uplt.arange(50, 350, 10),\n",
        "                        extend='max')\n",
        "\n",
        "  # plota titulo de cada figura\n",
        "  ax[i].format(title=str(ano), labels = False, titleloc='c', titlecolor='grey', titleweight='bold')\n",
        "\n",
        "  # plota contornos. Tempo= 9min 10s\n",
        "  #estados_brasil = salem.read_shapefile('https://github.com/evmpython/shapefile/raw/main/estados_do_brasil/BR_UF_2019.shp')\n",
        "  #estados_brasil.plot(edgecolor='black', facecolor='none', linewidth=0.5, alpha=1, ax=ax[i])\n",
        "\n",
        "  # ou. Tempo=2min 43s\n",
        "  shapefile = list(shpreader.Reader('https://github.com/evmpython/shapefile/raw/main/estados_do_brasil/BR_UF_2019.shp').geometries())\n",
        "  ax[i].add_geometries(shapefile, ccrs.PlateCarree(), edgecolor='black', facecolor='none', linewidth=0.3)\n",
        "\n",
        "# informação na figura\n",
        "ax[3].annotate('Prof. Enrique Mattos/UNIFEI\\ngithub.com/evmpython', xy=(lonmin,latmin-13), fontsize=7, color='black')\n",
        "\n",
        "# plota barra de cores da figura\n",
        "fig.colorbar(map1,\n",
        "             loc='b',\n",
        "             label='Dobson Unit (DU)\\nSource: Sentinel-5P/Pixel: 20km',\n",
        "             ticks=50,\n",
        "             ticklabelsize=13,\n",
        "             labelsize=13,\n",
        "             length=0.85,\n",
        "             width=0.25,\n",
        "             space=0.0)\n",
        "\n",
        "# salva figura\n",
        "fig.savefig(f'{dir}/output/codigo_01/Fig_S5P_CO_anual_Brasil_2020_to_2025_20km.jpg', transparent=True, dpi=300, bbox_inches=\"tight\")"
      ]
    }
  ],
  "metadata": {
    "colab": {
      "collapsed_sections": [
        "0jFqWV9Dliao",
        "EnO1rSEVwynL",
        "nu_aOiKmElsz",
        "gNHzD1-gFNcN",
        "F3hJ6qxvtabX",
        "ZWjC0c9xte5_",
        "RPmq0gSSIWkW"
      ],
      "provenance": []
    },
    "kernelspec": {
      "display_name": "Python 3",
      "language": "python",
      "name": "python3"
    },
    "language_info": {
      "codemirror_mode": {
        "name": "ipython",
        "version": 3
      },
      "file_extension": ".py",
      "mimetype": "text/x-python",
      "name": "python",
      "nbconvert_exporter": "python",
      "pygments_lexer": "ipython3",
      "version": "3.9.6"
    }
  },
  "nbformat": 4,
  "nbformat_minor": 5
}