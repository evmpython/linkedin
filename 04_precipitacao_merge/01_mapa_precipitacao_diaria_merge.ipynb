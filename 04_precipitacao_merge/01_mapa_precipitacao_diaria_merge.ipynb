{
  "cells": [
    {
      "cell_type": "markdown",
      "source": [
        "# Plota mapa diário de precipitação do MERGE\n",
        " - Dados MERGE fornecido pelo CPTEC: https://ftp.cptec.inpe.br/modelos/tempo/MERGE/GPM/DAILY/\n",
        " - Realizado por: Enrique V. Mattos - 28/08/2025"
      ],
      "metadata": {
        "id": "jkaM851QQHF5"
      },
      "id": "jkaM851QQHF5"
    },
    {
      "cell_type": "markdown",
      "id": "KvJ4s_i81xtt",
      "metadata": {
        "id": "KvJ4s_i81xtt"
      },
      "source": [
        "# **1° Passo:** Preparando ambiente"
      ]
    },
    {
      "cell_type": "code",
      "execution_count": null,
      "id": "eXY5wVTX1xEB",
      "metadata": {
        "id": "eXY5wVTX1xEB"
      },
      "outputs": [],
      "source": [
        "# instalações\n",
        "!pip install -q ultraplot cartopy pygrib rioxarray geobr salem folium\n",
        "\n",
        "# monta o drive\n",
        "from google.colab import drive\n",
        "drive.mount('/content/drive')\n",
        "\n",
        "# nome do diretório\n",
        "dir = '/content/drive/MyDrive/2-PESQUISA/0_GLM/estudos_de_caso/2025-08-22-FRENTEFRIA_RS'\n",
        "\n",
        "# importa bibliotecas\n",
        "import ultraplot as uplt\n",
        "import xarray as xr\n",
        "import numpy as np\n",
        "from matplotlib.colors import LinearSegmentedColormap\n",
        "import cartopy.crs as ccrs\n",
        "import cartopy.io.shapereader as shpreader\n",
        "import os\n",
        "import glob\n",
        "import matplotlib.pyplot as plt\n",
        "import cartopy.feature as cfeature\n",
        "import time\n",
        "from matplotlib import cm\n",
        "import matplotlib.patches as patches\n",
        "import pygrib\n",
        "import matplotlib\n",
        "import rioxarray as rxr\n",
        "from datetime import datetime, timedelta\n",
        "import pandas as pd\n",
        "import salem\n",
        "import geobr\n",
        "\n",
        "import warnings\n",
        "warnings.filterwarnings(\"ignore\")"
      ]
    },
    {
      "cell_type": "markdown",
      "id": "XnMutUOWca0P",
      "metadata": {
        "id": "XnMutUOWca0P"
      },
      "source": [
        "# **2° Passo:** Declarando funções"
      ]
    },
    {
      "cell_type": "code",
      "execution_count": null,
      "id": "2e2b10ad",
      "metadata": {
        "id": "2e2b10ad"
      },
      "outputs": [],
      "source": [
        "def evm_plot_states(shapefile, cor, espessura_linha):\n",
        "    import cartopy.crs as ccrs\n",
        "    import cartopy.io.shapereader as shpreader\n",
        "    import matplotlib.pyplot as plt\n",
        "    shapefile = list(shpreader.Reader(shapefile).geometries())\n",
        "    ax.add_geometries(shapefile, ccrs.PlateCarree(), edgecolor=cor, facecolor='none', linewidth=espessura_linha)\n",
        "\n",
        "# shapefile: Município\n",
        "def carrega_shape_municipio(municipio):\n",
        "\n",
        "    municipios_geobr = geobr.read_municipality(code_muni=\"all\", year=2020)\n",
        "\n",
        "    municipio_geobr = municipios_geobr [municipios_geobr['name_muni'] == municipio]\n",
        "\n",
        "    if municipios_geobr.empty:\n",
        "        raise ValueError(f\"Não encontrado o estado '{estado}'.\")\n",
        "    municipio_geobr.crs = 'epsg:4674'\n",
        "\n",
        "    return municipio_geobr"
      ]
    },
    {
      "cell_type": "markdown",
      "source": [
        "# **Processando os dados do MERGE**"
      ],
      "metadata": {
        "id": "jIo176iO5P9d"
      },
      "id": "jIo176iO5P9d"
    },
    {
      "cell_type": "markdown",
      "source": [
        "## Baixando os dados"
      ],
      "metadata": {
        "id": "Z8xjHGVd54at"
      },
      "id": "Z8xjHGVd54at"
    },
    {
      "cell_type": "code",
      "source": [
        "%%time\n",
        "# ano, mes e dia INICIAL do período\n",
        "anoi = 2025\n",
        "mesi = 8\n",
        "diai = 20\n",
        "\n",
        "# ano, mes e dia FINAL do período\n",
        "anof = 2025\n",
        "mesf = 8\n",
        "diaf = 24\n",
        "\n",
        "# FTP dos dados por dia\n",
        "ftp = 'http://ftp.cptec.inpe.br/modelos/tempo/MERGE/GPM/DAILY/'\n",
        "\n",
        "# Data desejada\n",
        "date_in = datetime(anoi, mesi, diai)\n",
        "date_ini = date_in.strftime('%Y%m%d')\n",
        "\n",
        "date_en = datetime(anof, mesf, diaf)\n",
        "date_end = date_en.strftime('%Y%m%d')\n",
        "\n",
        "# Número de dias\n",
        "n_days = date_en - date_in\n",
        "\n",
        "# Download dos dados\n",
        "for file in pd.date_range(date_ini, date_end, freq='d'):\n",
        "\n",
        "    # extrai ano e mes\n",
        "    ano = file.strftime('%Y')\n",
        "    mes = file.strftime('%m')\n",
        "    dia = file.strftime('%d')\n",
        "\n",
        "    # nome do arquivo\n",
        "    filename = f'MERGE_CPTEC_{ano}{mes}{dia}.grib2'\n",
        "\n",
        "    # ftp + filename. Exemplo: http://ftp.cptec.inpe.br/modelos/tempo/MERGE/GPM/DAILY/2023/09/MERGE_CPTEC_20230920.grib2\n",
        "    ftp_filename = f'{ftp}{ano}/{mes.zfill(2)}/{filename}'\n",
        "\n",
        "    # baixando arquivo diário de chuva\n",
        "    !wget {ftp_filename}\n",
        "\n",
        "    print('\\n---------------------')\n",
        "    print('Downloading FTP File:')\n",
        "    print('---------------------')\n",
        "    print('Model: MERGE')\n",
        "    print('File Name: ' + ftp_filename)"
      ],
      "metadata": {
        "id": "mfDa6E0x57AH"
      },
      "id": "mfDa6E0x57AH",
      "execution_count": null,
      "outputs": []
    },
    {
      "cell_type": "markdown",
      "source": [
        "## Processando os dados"
      ],
      "metadata": {
        "id": "siXx-lle6aIx"
      },
      "id": "siXx-lle6aIx"
    },
    {
      "cell_type": "code",
      "source": [
        "%%time\n",
        "#==================================================================================================#\n",
        "#                              DEFINIÇÃO DE PARÂMETROS\n",
        "#==================================================================================================#\n",
        "# limites das latitudes e longitudes\n",
        "lonmin, lonmax, latmin, latmax = -60.0, -40., -40., -20.0\n",
        "\n",
        "# extensão da imagem [min. lon, min. lat, max. lon, max. lat]\n",
        "extent = [lonmin, latmin, lonmax, latmax]\n",
        "\n",
        "#==================================================================================================#\n",
        "#                                     SHAPEFILES\n",
        "#==================================================================================================#\n",
        "shp_ES = list(shpreader.Reader('https://github.com/evmpython/shapefile/raw/main/UFs/ES/ES_UF_2019.shp').geometries())\n",
        "shp_RJ = list(shpreader.Reader('https://github.com/evmpython/shapefile/raw/main/UFs/RJ/RJ_UF_2019.shp').geometries())\n",
        "shp_SP = list(shpreader.Reader('https://github.com/evmpython/shapefile/raw/main/UFs/SP/SP_UF_2019.shp').geometries())\n",
        "shp_PR = list(shpreader.Reader('https://github.com/evmpython/shapefile/raw/main/UFs/PR/PR_UF_2019.shp').geometries())\n",
        "shp_SC = list(shpreader.Reader('https://github.com/evmpython/shapefile/raw/main/UFs/SC/SC_UF_2019.shp').geometries())\n",
        "shp_RS = list(shpreader.Reader('https://github.com/evmpython/shapefile/raw/main/UFs/RS/RS_UF_2019.shp').geometries())\n",
        "\n",
        "#==================================================================================================#\n",
        "#                                     LEITURA MERGE (GRIB)\n",
        "#==================================================================================================#\n",
        "# DIA 20\n",
        "grib = pygrib.open('/content/MERGE_CPTEC_20250820.grib2')\n",
        "grb = grib.select(name='Precipitation')[0]\n",
        "precip_dia20, lats, lons = grb.data(lat1=extent[1],lat2=extent[3],lon1=extent[0]+360,lon2=extent[2]+360)\n",
        "\n",
        "# DIA 21\n",
        "grib = pygrib.open('/content/MERGE_CPTEC_20250821.grib2')\n",
        "grb = grib.select(name='Precipitation')[0]\n",
        "precip_dia21, lats, lons = grb.data(lat1=extent[1],lat2=extent[3],lon1=extent[0]+360,lon2=extent[2]+360)\n",
        "\n",
        "# DIA 22\n",
        "grib = pygrib.open('/content/MERGE_CPTEC_20250822.grib2')\n",
        "grb = grib.select(name='Precipitation')[0]\n",
        "precip_dia22, lats, lons = grb.data(lat1=extent[1],lat2=extent[3],lon1=extent[0]+360,lon2=extent[2]+360)\n",
        "\n",
        "# DIA 23\n",
        "grib = pygrib.open('/content/MERGE_CPTEC_20250823.grib2')\n",
        "grb = grib.select(name='Precipitation')[0]\n",
        "precip_dia23, lats, lons = grb.data(lat1=extent[1],lat2=extent[3],lon1=extent[0]+360,lon2=extent[2]+360)\n",
        "\n",
        "# DIA 24\n",
        "grib = pygrib.open('/content/MERGE_CPTEC_20250824.grib2')\n",
        "grb = grib.select(name='Precipitation')[0]\n",
        "precip_dia24, lats, lons = grb.data(lat1=extent[1],lat2=extent[3],lon1=extent[0]+360,lon2=extent[2]+360)\n",
        "\n",
        "#==================================================================================================#\n",
        "#                      SOMA CHUVA A ENTRE OS DIAS 20 e 24\n",
        "#==================================================================================================#\n",
        "# inicializa o array\n",
        "precip_sum = np.zeros((precip_dia24.shape[0], precip_dia24.shape[1]))\n",
        "\n",
        "# soma os valores\n",
        "precip_sum = precip_dia20 + precip_dia21 + precip_dia22 + precip_dia23 + precip_dia24"
      ],
      "metadata": {
        "id": "fjYAvN9F5Y0E"
      },
      "id": "fjYAvN9F5Y0E",
      "execution_count": null,
      "outputs": []
    },
    {
      "cell_type": "code",
      "source": [
        "precip_dia23"
      ],
      "metadata": {
        "id": "xp68ohWR5Y8M"
      },
      "id": "xp68ohWR5Y8M",
      "execution_count": null,
      "outputs": []
    },
    {
      "cell_type": "code",
      "source": [
        "precip_sum"
      ],
      "metadata": {
        "id": "Ydt313SyIYKz"
      },
      "id": "Ydt313SyIYKz",
      "execution_count": null,
      "outputs": []
    },
    {
      "cell_type": "markdown",
      "source": [
        "# **Plota figura do MERGE**"
      ],
      "metadata": {
        "id": "tYbYpp5QVvtY"
      },
      "id": "tYbYpp5QVvtY"
    },
    {
      "cell_type": "code",
      "source": [
        "#==================================================================================================#\n",
        "#                                       CARREGA SHAPEFILE\n",
        "#==================================================================================================#\n",
        "ESTADO = 'RS'\n",
        "MUNICIPIO = 'Canguçu'\n",
        "NAME = f'{MUNICIPIO}/{ESTADO}'\n",
        "shapefile_regiao_cangucu = carrega_shape_municipio(MUNICIPIO)\n",
        "\n",
        "ESTADO = 'RS'\n",
        "MUNICIPIO = 'São Gabriel'\n",
        "NAME = f'{MUNICIPIO}/{ESTADO}'\n",
        "shapefile_regiao_saogabriel = carrega_shape_municipio(MUNICIPIO)\n",
        "\n",
        "#==================================================================================================#\n",
        "#                              DEFINIÇÕES DO GRÁFICO\n",
        "#==================================================================================================#\n",
        "# cria moldura da figura\n",
        "fig, ax = uplt.subplots(ncols=3, nrows=2, axheight=6.9, axwidth=6.8, tight=True, proj='pcarree')\n",
        "\n",
        "# formata os eixos\n",
        "ax.format(coast=True, borders=True, innerborders=True,\n",
        "          labels=True, latlines=5, lonlines=5,\n",
        "          latlim=(latmin, latmax), lonlim=(lonmin, lonmax),\n",
        "          abc=False, #abcstyle='(a)', abcsize=5\n",
        "          small='40px', large='40px',\n",
        "          linewidth=2,\n",
        "          suptitle='Acumulado de Precipitação', suptitlecolor='red', suptitlesize=40)\n",
        "\n",
        "# título de nome do produto\n",
        "ax[3].text(lonmin+0.1, latmin-2.5, 'MERGE/10km', color='grey', fontsize=30)\n",
        "\n",
        "#==================================================================================================#\n",
        "#                                       PALETA DE CORES\n",
        "#==================================================================================================#\n",
        "# define as 24 cores da paleta de PRECIPITAÇÃO\n",
        "colors = [\"#b4f0f0\", \"#96d2fa\", \"#78b9fa\", \"#3c95f5\", \"#1e6deb\", \"#1463d2\", \"#0fa00f\",\n",
        "          \"#28be28\", \"#50f050\", \"#72f06e\", \"#b3faaa\", \"#fff9aa\", \"#ffe978\", \"#ffc13c\",\n",
        "          \"#ffa200\", \"#ff6200\", \"#ff3300\", \"#ff1500\", \"#c00100\", \"#a50200\", \"#870000\",\n",
        "          \"#653b32\"]\n",
        "\n",
        "# carrega a paleta de cores através do cmap\n",
        "cmap = matplotlib.colors.ListedColormap(colors)\n",
        "\n",
        "# seta a cor para valores acima do valor máximo\n",
        "cmap.set_over('#000000')\n",
        "\n",
        "# seta a cor para valores abaixo do valor mínimo\n",
        "cmap.set_under('#aaaaaa')\n",
        "\n",
        "#==================================================================================================#\n",
        "#                                       PLOTA FIGURAS\n",
        "#==================================================================================================#\n",
        "# datas das figuras\n",
        "datas = ['2025-08-20', '2025-08-21', '2025-08-22', '2025-08-23', '2025-08-24','acumulado']\n",
        "\n",
        "# loop das datas\n",
        "for i, data in enumerate(datas):\n",
        "\n",
        "    # define o dado de cada dia\n",
        "    if data == '2025-08-20': precip_dia = precip_dia20\n",
        "    if data == '2025-08-21': precip_dia = precip_dia21\n",
        "    if data == '2025-08-22': precip_dia = precip_dia22\n",
        "    if data == '2025-08-23': precip_dia = precip_dia23\n",
        "    if data == '2025-08-24': precip_dia = precip_dia24\n",
        "    if data == 'acumulado': precip_dia = precip_sum\n",
        "\n",
        "    # figura\n",
        "    map1 = ax[i].contourf(lons, lats, precip_dia, cmap=cmap, levels=uplt.arange(0.01, 200, 10), extend='max')\n",
        "\n",
        "    # título de cada figura\n",
        "    if i == 0: ax[i].format(title=data, labels=[True, False, False, False])\n",
        "    if i == 1: ax[i].format(title=data, labels=[False, False, False, False])\n",
        "    if i == 2: ax[i].format(title=data, labels=[False, False, False, False])\n",
        "    if i == 3: ax[i].format(title=data, labels=[True, False, True, False])\n",
        "    if i == 4: ax[i].format(title=data, labels=[False, False, True, False])\n",
        "    if i == 5: ax[i].format(title='Acumulado Total', labels=[False, False, True, False])\n",
        "\n",
        "    # valor de chuva\n",
        "    ax[i].text(lonmax-9.3, latmin+0.5, f'Precip. Máx: {round(precip_dia.max(), 1)} mm ', color='black', fontsize=20)\n",
        "\n",
        "    # contornos dos ESTADOS\n",
        "    ax[i].add_geometries(shp_ES, ccrs.PlateCarree(), edgecolor='black', facecolor='none', linewidth=1.6)\n",
        "    ax[i].add_geometries(shp_RJ, ccrs.PlateCarree(), edgecolor='black', facecolor='none', linewidth=1.6)\n",
        "    ax[i].add_geometries(shp_SP, ccrs.PlateCarree(), edgecolor='black', facecolor='none', linewidth=1.6)\n",
        "    ax[i].add_geometries(shp_PR, ccrs.PlateCarree(), edgecolor='black', facecolor='none', linewidth=1.6)\n",
        "    ax[i].add_geometries(shp_SC, ccrs.PlateCarree(), edgecolor='black', facecolor='none', linewidth=1.6)\n",
        "    ax[i].add_geometries(shp_RS, ccrs.PlateCarree(), edgecolor='black', facecolor='none', linewidth=1.6)\n",
        "\n",
        "    # shapefile de Porto Alegre\n",
        "    shapefile_regiao_cangucu.plot(edgecolor='red', facecolor='none', linewidth=2, alpha=1, ax=ax[i])\n",
        "    shapefile_regiao_saogabriel.plot(edgecolor='black', facecolor='none', linewidth=2, alpha=1, ax=ax[i])\n",
        "\n",
        "# barra de cores\n",
        "fig.colorbar(map1, loc='b', label='mm', ticks=25, ticklabelsize=30, labelsize=30, space=3.1, length=0.55, width=0.6)\n",
        "\n",
        "# salva figura\n",
        "fig.save(f'{dir}/output/merge/merge_2025-08-20a24_RS.jpg', dpi=300)\n",
        "\n",
        "# exibe a figura na tela\n",
        "uplt.show()"
      ],
      "metadata": {
        "id": "QxYd30o_WWzW"
      },
      "id": "QxYd30o_WWzW",
      "execution_count": null,
      "outputs": []
    }
  ],
  "metadata": {
    "colab": {
      "collapsed_sections": [
        "KvJ4s_i81xtt",
        "XnMutUOWca0P",
        "jIo176iO5P9d",
        "Z8xjHGVd54at",
        "siXx-lle6aIx"
      ],
      "provenance": []
    },
    "kernelspec": {
      "display_name": "Python 3 (ipykernel)",
      "language": "python",
      "name": "python3"
    },
    "language_info": {
      "codemirror_mode": {
        "name": "ipython",
        "version": 3
      },
      "file_extension": ".py",
      "mimetype": "text/x-python",
      "name": "python",
      "nbconvert_exporter": "python",
      "pygments_lexer": "ipython3",
      "version": "3.10.11"
    }
  },
  "nbformat": 4,
  "nbformat_minor": 5
}